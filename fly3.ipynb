{
 "cells": [
  {
   "cell_type": "code",
   "execution_count": 25,
   "id": "b55db6d0-e291-4e11-9699-8fdbe1f0858d",
   "metadata": {},
   "outputs": [
    {
     "name": "stdout",
     "output_type": "stream",
     "text": [
      "Результат LU-разложения (собственная реализация):\n",
      "Матрица L:\n",
      "[1.0 0.0 0.0; 1.5 1.0 0.0; 0.5 0.3333333333333333 1.0]\n",
      "Матрица U:\n",
      "[4.0 3.0 2.0; 0.0 -1.5 -2.0; 0.0 0.0 0.6666666666666666]\n",
      "\n",
      "Результат LU-разложения (библиотечная функция):\n",
      "Матрица L:\n",
      "[1.0 0.0 0.0; 0.6666666666666666 1.0 0.0; 0.3333333333333333 0.0 1.0]\n",
      "Матрица U:\n",
      "[6.0 3.0 1.0; 0.0 1.0 1.3333333333333335; 0.0 0.0 0.6666666666666667]\n"
     ]
    }
   ],
   "source": [
    "using LinearAlgebra\n",
    "\n",
    "function LU(A)\n",
    "    n = size(A, 1)\n",
    "    L = Matrix{Float64}(I, n, n)  # Единичная матрица для L\n",
    "    U = zeros(Float64, n, n)      # Нулевая матрица для U\n",
    "\n",
    "    for i in 1:n\n",
    "        for j in 1:n\n",
    "            coeff = 0.0\n",
    "            if i <= j\n",
    "                if i != 1\n",
    "                    coeff = sum(L[i, k] * U[k, j] for k in 1:i-1)\n",
    "                else\n",
    "                    coeff = 0.0\n",
    "                end\n",
    "                U[i, j] = A[i, j] - coeff\n",
    "            else\n",
    "                if j != 1\n",
    "                    coeff = sum(L[i, k] * U[k, j] for k in 1:j-1)\n",
    "                else\n",
    "                    coeff = 0.0\n",
    "                end\n",
    "                L[i, j] = (A[i, j] - coeff) / U[j, j]\n",
    "            end\n",
    "        end\n",
    "    end\n",
    "\n",
    "    return L, U\n",
    "end\n",
    "\n",
    "# Пример матрицы\n",
    "A = [4.0 3.0 2.0; 6.0 3.0 1.0; 2.0 1.0 1.0]\n",
    "\n",
    "L, U = LU(A)\n",
    "\n",
    "println(\"Результат LU-разложения (собственная реализация):\")\n",
    "println(\"Матрица L:\")\n",
    "println(L)\n",
    "println(\"Матрица U:\")\n",
    "println(U)\n",
    "\n",
    "# Использование библиотечной функции LU-разложения\n",
    "lu_fact = lu(A)\n",
    "L_lib = lu_fact.L\n",
    "U_lib = lu_fact.U\n",
    "\n",
    "println(\"\\nРезультат LU-разложения (библиотечная функция):\")\n",
    "println(\"Матрица L:\")\n",
    "println(L_lib)\n",
    "println(\"Матрица U:\")\n",
    "println(U_lib)\n"
   ]
  },
  {
   "cell_type": "code",
   "execution_count": 24,
   "id": "afc189f0-745e-4ff5-b7d6-1cf7d2a41684",
   "metadata": {},
   "outputs": [
    {
     "name": "stdout",
     "output_type": "stream",
     "text": [
      "Определитель матрицы A: -6.0\n"
     ]
    }
   ],
   "source": [
    "function get_matrix_det(L, U)\n",
    "    det = 1.0\n",
    "    n = size(U, 1)\n",
    "    for i in 1:n\n",
    "        det *= U[i, i]\n",
    "    end\n",
    "    return det\n",
    "end\n",
    "\n",
    "A = [4.0 3.0; 6.0 3.0]  \n",
    "L, U = LU(A)            \n",
    "det = get_matrix_det(L, U)\n",
    "\n",
    "println(\"Определитель матрицы A: \", det)\n"
   ]
  },
  {
   "cell_type": "code",
   "execution_count": null,
   "id": "4f3f72ac-7f48-4e96-8259-555ccfaf09f0",
   "metadata": {},
   "outputs": [],
   "source": []
  }
 ],
 "metadata": {
  "kernelspec": {
   "display_name": "Julia 1.11.1",
   "language": "julia",
   "name": "julia-1.11"
  },
  "language_info": {
   "file_extension": ".jl",
   "mimetype": "application/julia",
   "name": "julia",
   "version": "1.11.1"
  }
 },
 "nbformat": 4,
 "nbformat_minor": 5
}
