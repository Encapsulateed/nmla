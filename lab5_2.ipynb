{
 "cells": [
  {
   "cell_type": "code",
   "execution_count": 17,
   "id": "c600cc6d-11ba-493f-9fbd-ab63fbc24a0a",
   "metadata": {},
   "outputs": [
    {
     "data": {
      "text/plain": [
       "krylov_algo (generic function with 1 method)"
      ]
     },
     "execution_count": 17,
     "metadata": {},
     "output_type": "execute_result"
    }
   ],
   "source": [
    "using Polynomials\n",
    "\n",
    "function krylov_algo(matrix)\n",
    "    n = size(matrix, 1)             \n",
    "    D = copy(matrix)                \n",
    "    y = []                          \n",
    "    push!(y, ones(n))            \n",
    "    \n",
    "\n",
    "    for i in 1:n\n",
    "        push!(y, D * y[i])         \n",
    "    end\n",
    "    \n",
    "    # cобираем yn в матрицу в обратном порядке, чтобы составить СЛАУ \n",
    "    A = hcat(reverse(y[1:n])...)    \n",
    "    \n",
    "\n",
    "    yn = y[n + 1]                    # Последний вектор y_n\n",
    "    res_p = A \\ yn                   # Решаем систему A * p = yn\n",
    "    \n",
    "\n",
    "    p = [1.0]                       # Начальный элемент многочлена - единица\n",
    "    append!(p, -res_p)              \n",
    "    \n",
    "    return y, p                    \n",
    "end\n",
    "\n",
    "\n"
   ]
  },
  {
   "cell_type": "code",
   "execution_count": 14,
   "id": "902b189f-a2e1-4d96-9181-3097a253a5d2",
   "metadata": {},
   "outputs": [
    {
     "data": {
      "text/plain": [
       "find_eigen_vectors (generic function with 1 method)"
      ]
     },
     "execution_count": 14,
     "metadata": {},
     "output_type": "execute_result"
    }
   ],
   "source": [
    "function find_eigen_values(eqCoeffs)\n",
    "    reversed_eqCoeffs = reverse(eqCoeffs)\n",
    "    \n",
    "    p = Polynomial(reversed_eqCoeffs)\n",
    "    \n",
    "    roots_p = roots(p)\n",
    "    \n",
    "    return roots_p\n",
    "end\n",
    "\n",
    "function find_eigen_vectors(y, lambdas, p)\n",
    "    n = length(p) - 1  \n",
    "    xs = []           \n",
    "\n",
    "    for i in 1:length(lambdas)\n",
    "        x = copy(y[n]) # Начинаем с последнего вектора y\n",
    "        q_i = [1.0]    # q_0i = 1\n",
    "\n",
    "        for j in 1:(n-1)\n",
    "            push!(q_i, lambdas[i] * q_i[j] + p[j+1])\n",
    "            x += q_i[j+1] * y[n - j]\n",
    "        end\n",
    "        \n",
    "        push!(xs, x)\n",
    "    end\n",
    "\n",
    "    return xs\n",
    "end\n",
    "\n"
   ]
  },
  {
   "cell_type": "code",
   "execution_count": 16,
   "id": "beba2765-0999-4e40-bd34-f78a6068b8f6",
   "metadata": {
    "scrolled": true
   },
   "outputs": [
    {
     "name": "stdout",
     "output_type": "stream",
     "text": [
      "Коэффициенты характеристического многочлена p:\n",
      "[1.0, -5.99999999999997, -0.20000000000011334, 12.734999999999701, -2.761600000000019]\n",
      "Y:\n",
      " y_1: [1.0, 1.0, 1.0, 1.0]\n",
      " y_2: [5.7, 5.3, 4.6, 6.6]\n",
      " y_3: [33.34, 28.389999999999997, 26.310000000000002, 37.260000000000005]\n",
      " y_4: [189.413, 160.127, 146.221, 211.68600000000004]\n",
      " y_5: [1073.3181, 901.7061000000001, 826.7686000000001, 1196.2786]\n",
      "\n",
      "СЗ: [-1.4200865939506169, 0.2226359271326228, 1.5454183350533741, 5.652032331764599]\n",
      "\n",
      "СВ:\n",
      " 1: [-0.995513846778179, 2.313048594068521, -3.3951871391295594, 1.4941956531551757]\n",
      " 2: [0.7281712311126203, 0.6346229145042859, -0.21408564920973028, -0.9837198605984483]\n",
      " 3: [2.304311380657996, -2.097832505855852, -1.779368116766154, 0.7395782920663088]\n",
      " 4: [165.9500312350099, 139.25316099728505, 127.58764090510725, 184.9089459153796]\n"
     ]
    }
   ],
   "source": [
    "    A = [2.2 1.0 0.5 2.0;\n",
    "         1.0 1.3 2.0 1.0;\n",
    "         0.5 2.0 0.5 1.6;\n",
    "         2.0 1.0 1.6 2.0]\n",
    "\n",
    "y, p = krylov_algo(A)\n",
    "\n",
    "\n",
    "println(\"Коэффициенты характеристического многочлена p:\\n\", p)\n",
    "println(\"Y:\")\n",
    "for i in 1:length(y)\n",
    "    println(\" y_$i: \", y[i])\n",
    "end\n",
    "eigens = find_eigen_values(p)\n",
    "\n",
    "\n",
    "println(\"\\nСЗ: \", eigens)\n",
    "println(\"\")\n",
    "\n",
    "e_vects = find_eigen_vectors(y, eigens, p)\n",
    "\n",
    "println(\"СВ:\")\n",
    "for i in 1:length(e_vects)\n",
    "    println(\" $i: \", e_vects[i])\n",
    "end"
   ]
  },
  {
   "cell_type": "code",
   "execution_count": null,
   "id": "585ef400-24e7-4916-9d45-4999a0ed5f06",
   "metadata": {},
   "outputs": [],
   "source": []
  }
 ],
 "metadata": {
  "kernelspec": {
   "display_name": "Julia 1.11.1",
   "language": "julia",
   "name": "julia-1.11"
  },
  "language_info": {
   "file_extension": ".jl",
   "mimetype": "application/julia",
   "name": "julia",
   "version": "1.11.1"
  }
 },
 "nbformat": 4,
 "nbformat_minor": 5
}
